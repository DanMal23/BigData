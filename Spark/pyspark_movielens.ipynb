{
 "cells": [
  {
   "cell_type": "code",
   "execution_count": 1,
   "metadata": {},
   "outputs": [
    {
     "data": {
      "text/html": [
       "<style scoped>\n",
       "  .ansiout {\n",
       "    display: block;\n",
       "    unicode-bidi: embed;\n",
       "    white-space: pre-wrap;\n",
       "    word-wrap: break-word;\n",
       "    word-break: break-all;\n",
       "    font-family: \"Source Code Pro\", \"Menlo\", monospace;;\n",
       "    font-size: 13px;\n",
       "    color: #555;\n",
       "    margin-left: 4px;\n",
       "    line-height: 19px;\n",
       "  }\n",
       "</style>\n",
       "<div class=\"ansiout\">Out[1]: [&#39;1@Toy Story (1995)@Adventure|Animation|Children|Comedy|Fantasy&#39;,\n",
       " &#39;2@Jumanji (1995)@Adventure|Children|Fantasy&#39;]</div>"
      ]
     },
     "metadata": {},
     "output_type": "display_data"
    }
   ],
   "source": [
    "# analysis in Databricks; Python used;\n",
    "# data source:\n",
    "# https://grouplens.org/datasets/movielens/\n",
    "\n",
    "# file structure:\n",
    "# columns: movieId, title, genres\n",
    "# sc - SparkContext - built into Databricks, no need for import\n",
    "\n",
    "rawMovies = sc.textFile(\"/FileStore/tables/movies.dat\") \n",
    "rawMovies.take(2)\n",
    "# ['1@Toy Story (1995)@Adventure|Animation|Children|Comedy|Fantasy',\n",
    "# '2@Jumanji (1995)@Adventure|Children|Fantasy']"
   ]
  },
  {
   "cell_type": "code",
   "execution_count": 2,
   "metadata": {},
   "outputs": [
    {
     "data": {
      "text/html": [
       "<style scoped>\n",
       "  .ansiout {\n",
       "    display: block;\n",
       "    unicode-bidi: embed;\n",
       "    white-space: pre-wrap;\n",
       "    word-wrap: break-word;\n",
       "    word-break: break-all;\n",
       "    font-family: \"Source Code Pro\", \"Menlo\", monospace;;\n",
       "    font-size: 13px;\n",
       "    color: #555;\n",
       "    margin-left: 4px;\n",
       "    line-height: 19px;\n",
       "  }\n",
       "</style>\n",
       "<div class=\"ansiout\">Out[5]: [&#39;1&#39;, &#39;Toy Story (1995)&#39;, &#39;Adventure|Animation|Children|Comedy|Fantasy&#39;]</div>"
      ]
     },
     "metadata": {},
     "output_type": "display_data"
    }
   ],
   "source": [
    "# raw.flatMap(lambda x: x.split(\"@\")).take(3)\n",
    "# ['1', 'Toy Story (1995)', 'Adventure|Animation|Children|Comedy|Fantasy']"
   ]
  },
  {
   "cell_type": "code",
   "execution_count": 3,
   "metadata": {},
   "outputs": [
    {
     "data": {
      "text/html": [
       "<style scoped>\n",
       "  .ansiout {\n",
       "    display: block;\n",
       "    unicode-bidi: embed;\n",
       "    white-space: pre-wrap;\n",
       "    word-wrap: break-word;\n",
       "    word-break: break-all;\n",
       "    font-family: \"Source Code Pro\", \"Menlo\", monospace;;\n",
       "    font-size: 13px;\n",
       "    color: #555;\n",
       "    margin-left: 4px;\n",
       "    line-height: 19px;\n",
       "  }\n",
       "</style>\n",
       "<div class=\"ansiout\"></div>"
      ]
     },
     "metadata": {},
     "output_type": "display_data"
    }
   ],
   "source": [
    "# 'map' - applies a function to all rows of RDD (can't be flatMap)\n",
    "# @ - delimiter\n",
    "moviesData = rawMovies.map(lambda x: x.split(\"@\"))"
   ]
  },
  {
   "cell_type": "code",
   "execution_count": 4,
   "metadata": {},
   "outputs": [
    {
     "data": {
      "text/html": [
       "<style scoped>\n",
       "  .ansiout {\n",
       "    display: block;\n",
       "    unicode-bidi: embed;\n",
       "    white-space: pre-wrap;\n",
       "    word-wrap: break-word;\n",
       "    word-break: break-all;\n",
       "    font-family: \"Source Code Pro\", \"Menlo\", monospace;;\n",
       "    font-size: 13px;\n",
       "    color: #555;\n",
       "    margin-left: 4px;\n",
       "    line-height: 19px;\n",
       "  }\n",
       "</style>\n",
       "<div class=\"ansiout\">Out[37]: [[&#39;1&#39;, &#39;Toy Story (1995)&#39;, &#39;Adventure|Animation|Children|Comedy|Fantasy&#39;],\n",
       " [&#39;2&#39;, &#39;Jumanji (1995)&#39;, &#39;Adventure|Children|Fantasy&#39;],\n",
       " [&#39;3&#39;, &#39;Grumpier Old Men (1995)&#39;, &#39;Comedy|Romance&#39;]]</div>"
      ]
     },
     "metadata": {},
     "output_type": "display_data"
    }
   ],
   "source": [
    "moviesData.take(3)"
   ]
  },
  {
   "cell_type": "code",
   "execution_count": 5,
   "metadata": {},
   "outputs": [
    {
     "data": {
      "text/html": [
       "<style scoped>\n",
       "  .ansiout {\n",
       "    display: block;\n",
       "    unicode-bidi: embed;\n",
       "    white-space: pre-wrap;\n",
       "    word-wrap: break-word;\n",
       "    word-break: break-all;\n",
       "    font-family: \"Source Code Pro\", \"Menlo\", monospace;;\n",
       "    font-size: 13px;\n",
       "    color: #555;\n",
       "    margin-left: 4px;\n",
       "    line-height: 19px;\n",
       "  }\n",
       "</style>\n",
       "<div class=\"ansiout\">Out[38]: [&#39;3&#39;, &#39;Grumpier Old Men (1995)&#39;, &#39;Comedy|Romance&#39;]</div>"
      ]
     },
     "metadata": {},
     "output_type": "display_data"
    }
   ],
   "source": [
    "moviesData.take(3)[-1]"
   ]
  },
  {
   "cell_type": "code",
   "execution_count": 6,
   "metadata": {},
   "outputs": [
    {
     "data": {
      "text/html": [
       "<style scoped>\n",
       "  .ansiout {\n",
       "    display: block;\n",
       "    unicode-bidi: embed;\n",
       "    white-space: pre-wrap;\n",
       "    word-wrap: break-word;\n",
       "    word-break: break-all;\n",
       "    font-family: \"Source Code Pro\", \"Menlo\", monospace;;\n",
       "    font-size: 13px;\n",
       "    color: #555;\n",
       "    margin-left: 4px;\n",
       "    line-height: 19px;\n",
       "  }\n",
       "</style>\n",
       "<div class=\"ansiout\">Out[39]: 0</div>"
      ]
     },
     "metadata": {},
     "output_type": "display_data"
    }
   ],
   "source": [
    "# counting empty records\n",
    "moviesData.filter(lambda x: \"\" in x).count()"
   ]
  },
  {
   "cell_type": "code",
   "execution_count": 7,
   "metadata": {},
   "outputs": [
    {
     "data": {
      "text/html": [
       "<style scoped>\n",
       "  .ansiout {\n",
       "    display: block;\n",
       "    unicode-bidi: embed;\n",
       "    white-space: pre-wrap;\n",
       "    word-wrap: break-word;\n",
       "    word-break: break-all;\n",
       "    font-family: \"Source Code Pro\", \"Menlo\", monospace;;\n",
       "    font-size: 13px;\n",
       "    color: #555;\n",
       "    margin-left: 4px;\n",
       "    line-height: 19px;\n",
       "  }\n",
       "</style>\n",
       "<div class=\"ansiout\">Out[40]: 10681</div>"
      ]
     },
     "metadata": {},
     "output_type": "display_data"
    }
   ],
   "source": [
    "# counting rows:\n",
    "moviesData.map(lambda x: x).count()\n",
    "# 10681"
   ]
  },
  {
   "cell_type": "code",
   "execution_count": 8,
   "metadata": {},
   "outputs": [
    {
     "data": {
      "text/html": [
       "<style scoped>\n",
       "  .ansiout {\n",
       "    display: block;\n",
       "    unicode-bidi: embed;\n",
       "    white-space: pre-wrap;\n",
       "    word-wrap: break-word;\n",
       "    word-break: break-all;\n",
       "    font-family: \"Source Code Pro\", \"Menlo\", monospace;;\n",
       "    font-size: 13px;\n",
       "    color: #555;\n",
       "    margin-left: 4px;\n",
       "    line-height: 19px;\n",
       "  }\n",
       "</style>\n",
       "<div class=\"ansiout\">Out[41]: []</div>"
      ]
     },
     "metadata": {},
     "output_type": "display_data"
    }
   ],
   "source": [
    "moviesData.flatMap(lambda row: [j for i,x in enumerate(row) if x == ''])\\\n",
    ".distinct().collect()"
   ]
  },
  {
   "cell_type": "code",
   "execution_count": 9,
   "metadata": {},
   "outputs": [
    {
     "data": {
      "text/html": [
       "<style scoped>\n",
       "  .ansiout {\n",
       "    display: block;\n",
       "    unicode-bidi: embed;\n",
       "    white-space: pre-wrap;\n",
       "    word-wrap: break-word;\n",
       "    word-break: break-all;\n",
       "    font-family: \"Source Code Pro\", \"Menlo\", monospace;;\n",
       "    font-size: 13px;\n",
       "    color: #555;\n",
       "    margin-left: 4px;\n",
       "    line-height: 19px;\n",
       "  }\n",
       "</style>\n",
       "<div class=\"ansiout\">Out[42]: [&#39;1&#39;, &#39;Toy Story (1995)&#39;, &#39;Adventure|Animation|Children|Comedy|Fantasy&#39;]</div>"
      ]
     },
     "metadata": {},
     "output_type": "display_data"
    }
   ],
   "source": [
    "moviesData.first()\n",
    "# ['1', 'Toy Story (1995)', 'Adventure|Animation|Children|Comedy|Fantasy']"
   ]
  },
  {
   "cell_type": "code",
   "execution_count": 10,
   "metadata": {},
   "outputs": [
    {
     "data": {
      "text/html": [
       "<style scoped>\n",
       "  .ansiout {\n",
       "    display: block;\n",
       "    unicode-bidi: embed;\n",
       "    white-space: pre-wrap;\n",
       "    word-wrap: break-word;\n",
       "    word-break: break-all;\n",
       "    font-family: \"Source Code Pro\", \"Menlo\", monospace;;\n",
       "    font-size: 13px;\n",
       "    color: #555;\n",
       "    margin-left: 4px;\n",
       "    line-height: 19px;\n",
       "  }\n",
       "</style>\n",
       "<div class=\"ansiout\">Out[43]: 797</div>"
      ]
     },
     "metadata": {},
     "output_type": "display_data"
    }
   ],
   "source": [
    "# counting genre selection\n",
    "moviesData.map(lambda x: (x[2], 1))\\\n",
    ".reduceByKey(lambda x,y: x+y).count()\n",
    "# 797"
   ]
  },
  {
   "cell_type": "code",
   "execution_count": 11,
   "metadata": {},
   "outputs": [],
   "source": [
    "# =========================================================="
   ]
  },
  {
   "cell_type": "code",
   "execution_count": 12,
   "metadata": {},
   "outputs": [
    {
     "data": {
      "text/html": [
       "<style scoped>\n",
       "  .ansiout {\n",
       "    display: block;\n",
       "    unicode-bidi: embed;\n",
       "    white-space: pre-wrap;\n",
       "    word-wrap: break-word;\n",
       "    word-break: break-all;\n",
       "    font-family: \"Source Code Pro\", \"Menlo\", monospace;;\n",
       "    font-size: 13px;\n",
       "    color: #555;\n",
       "    margin-left: 4px;\n",
       "    line-height: 19px;\n",
       "  }\n",
       "</style>\n",
       "<div class=\"ansiout\">Out[33]: [&#39;1@122@5@838985046&#39;]</div>"
      ]
     },
     "metadata": {},
     "output_type": "display_data"
    }
   ],
   "source": [
    "# load ratings data (0.2 GB)\n",
    "rawRatings = sc.textFile(\"/FileStore/tables/ratings.dat\") \n",
    "rawRatings.take(1)\n",
    "# ['1@122@5@838985046']"
   ]
  },
  {
   "cell_type": "code",
   "execution_count": 13,
   "metadata": {},
   "outputs": [],
   "source": [
    "# ratings.dat file structure:\n",
    "# userId, movieId, rating, timestamp\n",
    "# indeksy: 0, 1, 2, 3"
   ]
  },
  {
   "cell_type": "code",
   "execution_count": 14,
   "metadata": {},
   "outputs": [
    {
     "data": {
      "text/html": [
       "<style scoped>\n",
       "  .ansiout {\n",
       "    display: block;\n",
       "    unicode-bidi: embed;\n",
       "    white-space: pre-wrap;\n",
       "    word-wrap: break-word;\n",
       "    word-break: break-all;\n",
       "    font-family: \"Source Code Pro\", \"Menlo\", monospace;;\n",
       "    font-size: 13px;\n",
       "    color: #555;\n",
       "    margin-left: 4px;\n",
       "    line-height: 19px;\n",
       "  }\n",
       "</style>\n",
       "<div class=\"ansiout\">Out[155]: [[&#39;1&#39;, &#39;122&#39;, &#39;5&#39;, &#39;838985046&#39;]]</div>"
      ]
     },
     "metadata": {},
     "output_type": "display_data"
    }
   ],
   "source": [
    "# splitting\n",
    "rawRatings.map(lambda x: x.split(\"@\")).take(1)\n",
    "# [['1', '122', '5', '838985046']"
   ]
  },
  {
   "cell_type": "code",
   "execution_count": 15,
   "metadata": {},
   "outputs": [
    {
     "data": {
      "text/html": [
       "<style scoped>\n",
       "  .ansiout {\n",
       "    display: block;\n",
       "    unicode-bidi: embed;\n",
       "    white-space: pre-wrap;\n",
       "    word-wrap: break-word;\n",
       "    word-break: break-all;\n",
       "    font-family: \"Source Code Pro\", \"Menlo\", monospace;;\n",
       "    font-size: 13px;\n",
       "    color: #555;\n",
       "    margin-left: 4px;\n",
       "    line-height: 19px;\n",
       "  }\n",
       "</style>\n",
       "<div class=\"ansiout\">Out[45]: 10000054</div>"
      ]
     },
     "metadata": {},
     "output_type": "display_data"
    }
   ],
   "source": [
    "ratingsData = rawRatings.map(lambda x: x.split(\"@\"))\n",
    "ratingsData.take(1)\n",
    "# [['1', '122', '5', '838985046']\n",
    "\n",
    "# columns: userId, movieId, rating, timestamp\n",
    "\n",
    "# count rows\n",
    "ratingsData.map(lambda x: x).count()\n",
    "# 10000054"
   ]
  },
  {
   "cell_type": "code",
   "execution_count": 16,
   "metadata": {},
   "outputs": [
    {
     "data": {
      "text/html": [
       "<style scoped>\n",
       "  .ansiout {\n",
       "    display: block;\n",
       "    unicode-bidi: embed;\n",
       "    white-space: pre-wrap;\n",
       "    word-wrap: break-word;\n",
       "    word-break: break-all;\n",
       "    font-family: \"Source Code Pro\", \"Menlo\", monospace;;\n",
       "    font-size: 13px;\n",
       "    color: #555;\n",
       "    margin-left: 4px;\n",
       "    line-height: 19px;\n",
       "  }\n",
       "</style>\n",
       "<div class=\"ansiout\">Out[46]: 69878</div>"
      ]
     },
     "metadata": {},
     "output_type": "display_data"
    }
   ],
   "source": [
    "# counting users (userId is index 0)\n",
    "ratingsData.map(lambda x: (x[0], 1))\\\n",
    ".reduceByKey(lambda x,y: x+y)\\\n",
    ".count()\n",
    "# 69878\n",
    "# or\n",
    "# ratingsData.map(lambda x: x[0]).distinct().count()"
   ]
  },
  {
   "cell_type": "code",
   "execution_count": 17,
   "metadata": {},
   "outputs": [
    {
     "data": {
      "text/html": [
       "<style scoped>\n",
       "  .ansiout {\n",
       "    display: block;\n",
       "    unicode-bidi: embed;\n",
       "    white-space: pre-wrap;\n",
       "    word-wrap: break-word;\n",
       "    word-break: break-all;\n",
       "    font-family: \"Source Code Pro\", \"Menlo\", monospace;;\n",
       "    font-size: 13px;\n",
       "    color: #555;\n",
       "    margin-left: 4px;\n",
       "    line-height: 19px;\n",
       "  }\n",
       "</style>\n",
       "<div class=\"ansiout\">Out[51]: 10677</div>"
      ]
     },
     "metadata": {},
     "output_type": "display_data"
    }
   ],
   "source": [
    "# counting movies; movieId has index 1\n",
    "ratingsData.map(lambda x: x[1]).distinct().count()\n",
    "# 10677"
   ]
  },
  {
   "cell_type": "code",
   "execution_count": 18,
   "metadata": {},
   "outputs": [
    {
     "data": {
      "text/html": [
       "<style scoped>\n",
       "  .ansiout {\n",
       "    display: block;\n",
       "    unicode-bidi: embed;\n",
       "    white-space: pre-wrap;\n",
       "    word-wrap: break-word;\n",
       "    word-break: break-all;\n",
       "    font-family: \"Source Code Pro\", \"Menlo\", monospace;;\n",
       "    font-size: 13px;\n",
       "    color: #555;\n",
       "    margin-left: 4px;\n",
       "    line-height: 19px;\n",
       "  }\n",
       "</style>\n",
       "<div class=\"ansiout\">Out[47]: [(&#39;4&#39;, 38), (&#39;10&#39;, 123), (&#39;12&#39;, 54)]</div>"
      ]
     },
     "metadata": {},
     "output_type": "display_data"
    }
   ],
   "source": [
    "# counting userID [0], \n",
    "ratingsData.map(lambda x: (x[0], 1))\\\n",
    ".reduceByKey(lambda x,y: x+y)\\\n",
    ".take(3)"
   ]
  },
  {
   "cell_type": "code",
   "execution_count": 19,
   "metadata": {},
   "outputs": [
    {
     "data": {
      "text/html": [
       "<style scoped>\n",
       "  .ansiout {\n",
       "    display: block;\n",
       "    unicode-bidi: embed;\n",
       "    white-space: pre-wrap;\n",
       "    word-wrap: break-word;\n",
       "    word-break: break-all;\n",
       "    font-family: \"Source Code Pro\", \"Menlo\", monospace;;\n",
       "    font-size: 13px;\n",
       "    color: #555;\n",
       "    margin-left: 4px;\n",
       "    line-height: 19px;\n",
       "  }\n",
       "</style>\n",
       "<div class=\"ansiout\">Out[50]: 10</div>"
      ]
     },
     "metadata": {},
     "output_type": "display_data"
    }
   ],
   "source": [
    "# how many rating [2] category  - 10\n",
    "# DISTINCT\n",
    "ratingsData.map(lambda x: x[2]).distinct().count()\n",
    "# 10"
   ]
  },
  {
   "cell_type": "code",
   "execution_count": 20,
   "metadata": {},
   "outputs": [
    {
     "data": {
      "text/html": [
       "<style scoped>\n",
       "  .ansiout {\n",
       "    display: block;\n",
       "    unicode-bidi: embed;\n",
       "    white-space: pre-wrap;\n",
       "    word-wrap: break-word;\n",
       "    word-break: break-all;\n",
       "    font-family: \"Source Code Pro\", \"Menlo\", monospace;;\n",
       "    font-size: 13px;\n",
       "    color: #555;\n",
       "    margin-left: 4px;\n",
       "    line-height: 19px;\n",
       "  }\n",
       "</style>\n",
       "<div class=\"ansiout\">Out[48]: [(&#39;4&#39;, 2875850),\n",
       " (&#39;1.5&#39;, 118278),\n",
       " (&#39;3&#39;, 2356676),\n",
       " (&#39;4.5&#39;, 585022),\n",
       " (&#39;1&#39;, 384180),\n",
       " (&#39;0.5&#39;, 94988),\n",
       " (&#39;5&#39;, 1544812),\n",
       " (&#39;2&#39;, 790306),\n",
       " (&#39;3.5&#39;, 879764),\n",
       " (&#39;2.5&#39;, 370178)]</div>"
      ]
     },
     "metadata": {},
     "output_type": "display_data"
    }
   ],
   "source": [
    "# number of each rating 1-5 (index 2)\n",
    "ratingsData.map(lambda x: (x[2], 1))\\\n",
    ".reduceByKey(lambda x,y: x+y)\\\n",
    ".collect()"
   ]
  },
  {
   "cell_type": "code",
   "execution_count": 21,
   "metadata": {},
   "outputs": [
    {
     "data": {
      "text/html": [
       "<style scoped>\n",
       "  .ansiout {\n",
       "    display: block;\n",
       "    unicode-bidi: embed;\n",
       "    white-space: pre-wrap;\n",
       "    word-wrap: break-word;\n",
       "    word-break: break-all;\n",
       "    font-family: \"Source Code Pro\", \"Menlo\", monospace;;\n",
       "    font-size: 13px;\n",
       "    color: #555;\n",
       "    margin-left: 4px;\n",
       "    line-height: 19px;\n",
       "  }\n",
       "</style>\n",
       "<div class=\"ansiout\">Out[52]: [(&#39;0.5&#39;, 94988),\n",
       " (&#39;1&#39;, 384180),\n",
       " (&#39;1.5&#39;, 118278),\n",
       " (&#39;2&#39;, 790306),\n",
       " (&#39;2.5&#39;, 370178),\n",
       " (&#39;3&#39;, 2356676),\n",
       " (&#39;3.5&#39;, 879764),\n",
       " (&#39;4&#39;, 2875850),\n",
       " (&#39;4.5&#39;, 585022),\n",
       " (&#39;5&#39;, 1544812)]</div>"
      ]
     },
     "metadata": {},
     "output_type": "display_data"
    }
   ],
   "source": [
    "# sort ratings (ratingId index 0) 1-5:\n",
    "# 0- userId, 1-movieId, 2-rating, 3-timestamp\n",
    "ratingsData.map(lambda x: (x[2], 1))\\\n",
    ".reduceByKey(lambda x,y: x+y)\\\n",
    ".sortBy(lambda x: x[0]).collect()\n",
    "# [('0.5', 94988), ..."
   ]
  },
  {
   "cell_type": "code",
   "execution_count": 22,
   "metadata": {},
   "outputs": [
    {
     "data": {
      "text/html": [
       "<style scoped>\n",
       "  .ansiout {\n",
       "    display: block;\n",
       "    unicode-bidi: embed;\n",
       "    white-space: pre-wrap;\n",
       "    word-wrap: break-word;\n",
       "    word-break: break-all;\n",
       "    font-family: \"Source Code Pro\", \"Menlo\", monospace;;\n",
       "    font-size: 13px;\n",
       "    color: #555;\n",
       "    margin-left: 4px;\n",
       "    line-height: 19px;\n",
       "  }\n",
       "</style>\n",
       "<div class=\"ansiout\">Out[58]: 10</div>"
      ]
     },
     "metadata": {},
     "output_type": "display_data"
    }
   ],
   "source": [
    "# with distinct\n",
    "# levels of ratings\n",
    "ratingsData.map(lambda x: (x[2], 1)).distinct().count()\n",
    "# 10"
   ]
  },
  {
   "cell_type": "code",
   "execution_count": 23,
   "metadata": {},
   "outputs": [
    {
     "data": {
      "text/html": [
       "<style scoped>\n",
       "  .ansiout {\n",
       "    display: block;\n",
       "    unicode-bidi: embed;\n",
       "    white-space: pre-wrap;\n",
       "    word-wrap: break-word;\n",
       "    word-break: break-all;\n",
       "    font-family: \"Source Code Pro\", \"Menlo\", monospace;;\n",
       "    font-size: 13px;\n",
       "    color: #555;\n",
       "    margin-left: 4px;\n",
       "    line-height: 19px;\n",
       "  }\n",
       "</style>\n",
       "<div class=\"ansiout\">Out[53]: [(&#39;0.5&#39;, 94988),\n",
       " (&#39;1.5&#39;, 118278),\n",
       " (&#39;2.5&#39;, 370178),\n",
       " (&#39;1&#39;, 384180),\n",
       " (&#39;4.5&#39;, 585022),\n",
       " (&#39;2&#39;, 790306),\n",
       " (&#39;3.5&#39;, 879764),\n",
       " (&#39;5&#39;, 1544812),\n",
       " (&#39;3&#39;, 2356676),\n",
       " (&#39;4&#39;, 2875850)]</div>"
      ]
     },
     "metadata": {},
     "output_type": "display_data"
    }
   ],
   "source": [
    "# soritng numbers in each rating category\n",
    "ratingsData.map(lambda x: (x[2], 1))\\\n",
    ".reduceByKey(lambda x,y: x+y)\\\n",
    ".sortBy(lambda x: x[1]).collect()\n",
    "# [('0.5', 94988), ('1.5', 118278) ..."
   ]
  },
  {
   "cell_type": "code",
   "execution_count": 24,
   "metadata": {},
   "outputs": [
    {
     "data": {
      "text/html": [
       "<style scoped>\n",
       "  .ansiout {\n",
       "    display: block;\n",
       "    unicode-bidi: embed;\n",
       "    white-space: pre-wrap;\n",
       "    word-wrap: break-word;\n",
       "    word-break: break-all;\n",
       "    font-family: \"Source Code Pro\", \"Menlo\", monospace;;\n",
       "    font-size: 13px;\n",
       "    color: #555;\n",
       "    margin-left: 4px;\n",
       "    line-height: 19px;\n",
       "  }\n",
       "</style>\n",
       "<div class=\"ansiout\">Out[56]: [(&#39;4&#39;, 2875850),\n",
       " (&#39;3&#39;, 2356676),\n",
       " (&#39;5&#39;, 1544812),\n",
       " (&#39;3.5&#39;, 879764),\n",
       " (&#39;2&#39;, 790306),\n",
       " (&#39;4.5&#39;, 585022),\n",
       " (&#39;1&#39;, 384180),\n",
       " (&#39;2.5&#39;, 370178),\n",
       " (&#39;1.5&#39;, 118278),\n",
       " (&#39;0.5&#39;, 94988)]</div>"
      ]
     },
     "metadata": {},
     "output_type": "display_data"
    }
   ],
   "source": [
    "# descending: tuple(number, rating)\n",
    "ratingsData.map(lambda x: (x[2],1))\\\n",
    ".reduceByKey(lambda x,y: x+y)\\\n",
    ".sortBy(lambda x: -x[1]).collect()\n",
    "# sorting by 2nd elem of the tuple, descending\n",
    "# [('4', 2875850), ('3', 2356676), ..."
   ]
  },
  {
   "cell_type": "code",
   "execution_count": 25,
   "metadata": {},
   "outputs": [
    {
     "data": {
      "text/html": [
       "<style scoped>\n",
       "  .ansiout {\n",
       "    display: block;\n",
       "    unicode-bidi: embed;\n",
       "    white-space: pre-wrap;\n",
       "    word-wrap: break-word;\n",
       "    word-break: break-all;\n",
       "    font-family: \"Source Code Pro\", \"Menlo\", monospace;;\n",
       "    font-size: 13px;\n",
       "    color: #555;\n",
       "    margin-left: 4px;\n",
       "    line-height: 19px;\n",
       "  }\n",
       "</style>\n",
       "<div class=\"ansiout\">Out[106]: [(&#39;4&#39;, 2875850)]</div>"
      ]
     },
     "metadata": {},
     "output_type": "display_data"
    }
   ],
   "source": [
    "# userId, movieId, rating, timestamp\n",
    "# max rating\n",
    "ratingsData.map(lambda x: (x[2],1))\\\n",
    ".reduceByKey(lambda x,y: x+y)\\\n",
    ".sortBy(lambda x: -x[1]).take(1)\n",
    "# [('4', 2875850)]\n",
    "# rating '4' is most prominent"
   ]
  },
  {
   "cell_type": "code",
   "execution_count": 26,
   "metadata": {},
   "outputs": [],
   "source": []
  },
  {
   "cell_type": "code",
   "execution_count": 27,
   "metadata": {},
   "outputs": [],
   "source": [
    "# ======================================================="
   ]
  },
  {
   "cell_type": "code",
   "execution_count": 28,
   "metadata": {},
   "outputs": [
    {
     "data": {
      "text/html": [
       "<style scoped>\n",
       "  .ansiout {\n",
       "    display: block;\n",
       "    unicode-bidi: embed;\n",
       "    white-space: pre-wrap;\n",
       "    word-wrap: break-word;\n",
       "    word-break: break-all;\n",
       "    font-family: \"Source Code Pro\", \"Menlo\", monospace;;\n",
       "    font-size: 13px;\n",
       "    color: #555;\n",
       "    margin-left: 4px;\n",
       "    line-height: 19px;\n",
       "  }\n",
       "</style>\n",
       "<div class=\"ansiout\">Out[55]: [&#39;1|24|M|technician|85711&#39;, &#39;2|53|F|other|94043&#39;]</div>"
      ]
     },
     "metadata": {},
     "output_type": "display_data"
    }
   ],
   "source": [
    "# users:\n",
    "# id | age | gender | occupation | zip\n",
    "rawUsers = sc.textFile(\"/FileStore/tables/users.csv\") \n",
    "rawUsers.take(2)\n",
    "# ['1|24|M|technician|85711',\n",
    "#  '2|53|F|other|94043']"
   ]
  },
  {
   "cell_type": "code",
   "execution_count": 29,
   "metadata": {},
   "outputs": [
    {
     "data": {
      "text/html": [
       "<style scoped>\n",
       "  .ansiout {\n",
       "    display: block;\n",
       "    unicode-bidi: embed;\n",
       "    white-space: pre-wrap;\n",
       "    word-wrap: break-word;\n",
       "    word-break: break-all;\n",
       "    font-family: \"Source Code Pro\", \"Menlo\", monospace;;\n",
       "    font-size: 13px;\n",
       "    color: #555;\n",
       "    margin-left: 4px;\n",
       "    line-height: 19px;\n",
       "  }\n",
       "</style>\n",
       "<div class=\"ansiout\">Out[65]: [(&#39;M&#39;, 670), (&#39;F&#39;, 273)]</div>"
      ]
     },
     "metadata": {},
     "output_type": "display_data"
    }
   ],
   "source": [
    "# id | age | gender | occupation | zip\n",
    "# splitting by delimiter '|', taking second col, counting  genders\n",
    "usersData = rawUsers.map(lambda x: (x.split('|')[2],1))\\\n",
    "    .reduceByKey( lambda x,y: x+y)\n",
    "usersData.collect()\n",
    "# [('M', 670), ('F', 273)]"
   ]
  },
  {
   "cell_type": "code",
   "execution_count": 30,
   "metadata": {},
   "outputs": [
    {
     "data": {
      "text/html": [
       "<style scoped>\n",
       "  .ansiout {\n",
       "    display: block;\n",
       "    unicode-bidi: embed;\n",
       "    white-space: pre-wrap;\n",
       "    word-wrap: break-word;\n",
       "    word-break: break-all;\n",
       "    font-family: \"Source Code Pro\", \"Menlo\", monospace;;\n",
       "    font-size: 13px;\n",
       "    color: #555;\n",
       "    margin-left: 4px;\n",
       "    line-height: 19px;\n",
       "  }\n",
       "</style>\n",
       "<div class=\"ansiout\">Out[64]: [[&#39;1&#39;, &#39;24&#39;, &#39;M&#39;, &#39;technician&#39;, &#39;85711&#39;]]</div>"
      ]
     },
     "metadata": {},
     "output_type": "display_data"
    }
   ],
   "source": [
    "# id | age | gender | occupation | zip\n",
    "userData = rawUsers.map(lambda x: x.split(\"|\"))\n",
    "userData.take(1)\n",
    "# [['1', '24', 'M', 'technician', '85711']]"
   ]
  },
  {
   "cell_type": "code",
   "execution_count": 31,
   "metadata": {},
   "outputs": [
    {
     "data": {
      "text/html": [
       "<style scoped>\n",
       "  .ansiout {\n",
       "    display: block;\n",
       "    unicode-bidi: embed;\n",
       "    white-space: pre-wrap;\n",
       "    word-wrap: break-word;\n",
       "    word-break: break-all;\n",
       "    font-family: \"Source Code Pro\", \"Menlo\", monospace;;\n",
       "    font-size: 13px;\n",
       "    color: #555;\n",
       "    margin-left: 4px;\n",
       "    line-height: 19px;\n",
       "  }\n",
       "</style>\n",
       "<div class=\"ansiout\">Out[67]: 943</div>"
      ]
     },
     "metadata": {},
     "output_type": "display_data"
    }
   ],
   "source": [
    "# gender count\n",
    "userData.map(lambda x: (x[2],1)).count()"
   ]
  },
  {
   "cell_type": "code",
   "execution_count": 32,
   "metadata": {},
   "outputs": [
    {
     "data": {
      "text/html": [
       "<style scoped>\n",
       "  .ansiout {\n",
       "    display: block;\n",
       "    unicode-bidi: embed;\n",
       "    white-space: pre-wrap;\n",
       "    word-wrap: break-word;\n",
       "    word-break: break-all;\n",
       "    font-family: \"Source Code Pro\", \"Menlo\", monospace;;\n",
       "    font-size: 13px;\n",
       "    color: #555;\n",
       "    margin-left: 4px;\n",
       "    line-height: 19px;\n",
       "  }\n",
       "</style>\n",
       "<div class=\"ansiout\">Out[68]: 2</div>"
      ]
     },
     "metadata": {},
     "output_type": "display_data"
    }
   ],
   "source": [
    "userData.map(lambda x: (x[2], 1)).distinct().count()\n",
    "# 2"
   ]
  },
  {
   "cell_type": "code",
   "execution_count": 33,
   "metadata": {},
   "outputs": [
    {
     "data": {
      "text/html": [
       "<style scoped>\n",
       "  .ansiout {\n",
       "    display: block;\n",
       "    unicode-bidi: embed;\n",
       "    white-space: pre-wrap;\n",
       "    word-wrap: break-word;\n",
       "    word-break: break-all;\n",
       "    font-family: \"Source Code Pro\", \"Menlo\", monospace;;\n",
       "    font-size: 13px;\n",
       "    color: #555;\n",
       "    margin-left: 4px;\n",
       "    line-height: 19px;\n",
       "  }\n",
       "</style>\n",
       "<div class=\"ansiout\">Out[69]: [(&#39;M&#39;, 670), (&#39;F&#39;, 273)]</div>"
      ]
     },
     "metadata": {},
     "output_type": "display_data"
    }
   ],
   "source": [
    "userData.map(lambda x: (x[2], 1))\\\n",
    ".reduceByKey(lambda x,y: x+y).collect()\n",
    "# [('M', 670), ('F', 273)]"
   ]
  },
  {
   "cell_type": "code",
   "execution_count": 34,
   "metadata": {},
   "outputs": [
    {
     "data": {
      "text/html": [
       "<style scoped>\n",
       "  .ansiout {\n",
       "    display: block;\n",
       "    unicode-bidi: embed;\n",
       "    white-space: pre-wrap;\n",
       "    word-wrap: break-word;\n",
       "    word-break: break-all;\n",
       "    font-family: \"Source Code Pro\", \"Menlo\", monospace;;\n",
       "    font-size: 13px;\n",
       "    color: #555;\n",
       "    margin-left: 4px;\n",
       "    line-height: 19px;\n",
       "  }\n",
       "</style>\n",
       "<div class=\"ansiout\">Out[93]: [&#39;10&#39;, &#39;73&#39;]</div>"
      ]
     },
     "metadata": {},
     "output_type": "display_data"
    }
   ],
   "source": [
    "# min age (age - index 1):\n",
    "userData.map(lambda x: x[1]).min()\n",
    "# 10\n",
    "# max age:\n",
    "userData.map(lambda x: x[1]).max()\n",
    "# 73\n",
    "# both:\n",
    "[userData.map(lambda x: x[1]).min(),\n",
    "userData.map(lambda x: x[1]).max()]\n",
    "# ['10', '73']\n",
    "# userData.map(lambda x: x[1]).stats()"
   ]
  },
  {
   "cell_type": "code",
   "execution_count": 35,
   "metadata": {},
   "outputs": [
    {
     "data": {
      "text/html": [
       "<style scoped>\n",
       "  .ansiout {\n",
       "    display: block;\n",
       "    unicode-bidi: embed;\n",
       "    white-space: pre-wrap;\n",
       "    word-wrap: break-word;\n",
       "    word-break: break-all;\n",
       "    font-family: \"Source Code Pro\", \"Menlo\", monospace;;\n",
       "    font-size: 13px;\n",
       "    color: #555;\n",
       "    margin-left: 4px;\n",
       "    line-height: 19px;\n",
       "  }\n",
       "</style>\n",
       "<div class=\"ansiout\">Out[105]: PythonRDD[331] at RDD at PythonRDD.scala:59</div>"
      ]
     },
     "metadata": {},
     "output_type": "display_data"
    }
   ],
   "source": [
    "# id | age | gender | occupation | zip\n",
    "# age (index 1):"
   ]
  },
  {
   "cell_type": "code",
   "execution_count": 36,
   "metadata": {},
   "outputs": [
    {
     "data": {
      "text/html": [
       "<style scoped>\n",
       "  .ansiout {\n",
       "    display: block;\n",
       "    unicode-bidi: embed;\n",
       "    white-space: pre-wrap;\n",
       "    word-wrap: break-word;\n",
       "    word-break: break-all;\n",
       "    font-family: \"Source Code Pro\", \"Menlo\", monospace;;\n",
       "    font-size: 13px;\n",
       "    color: #555;\n",
       "    margin-left: 4px;\n",
       "    line-height: 19px;\n",
       "  }\n",
       "</style>\n",
       "<div class=\"ansiout\">Out[101]: [(&#39;10&#39;, 1), (&#39;11&#39;, 1), (&#39;13&#39;, 5), (&#39;14&#39;, 3), (&#39;15&#39;, 6)]</div>"
      ]
     },
     "metadata": {},
     "output_type": "display_data"
    }
   ],
   "source": [
    "# min age\n",
    "userData.map(lambda x: (x[1], 1))\\\n",
    ".reduceByKey(lambda x,y: x+y)\\\n",
    ".takeOrdered(5,(lambda x: x[0]))"
   ]
  },
  {
   "cell_type": "code",
   "execution_count": 37,
   "metadata": {},
   "outputs": [
    {
     "data": {
      "text/html": [
       "<style scoped>\n",
       "  .ansiout {\n",
       "    display: block;\n",
       "    unicode-bidi: embed;\n",
       "    white-space: pre-wrap;\n",
       "    word-wrap: break-word;\n",
       "    word-break: break-all;\n",
       "    font-family: \"Source Code Pro\", \"Menlo\", monospace;;\n",
       "    font-size: 13px;\n",
       "    color: #555;\n",
       "    margin-left: 4px;\n",
       "    line-height: 19px;\n",
       "  }\n",
       "</style>\n",
       "<div class=\"ansiout\">Out[140]: [(&#39;30&#39;, 39), (&#39;25&#39;, 38), (&#39;22&#39;, 37)]</div>"
      ]
     },
     "metadata": {},
     "output_type": "display_data"
    }
   ],
   "source": [
    "# columns: id | age | gender | occupation | zip\n",
    "userData.map(lambda x: (x[1],1))\\\n",
    ".reduceByKey(lambda x,y: x+y)\\\n",
    ".sortBy(lambda x: -x[1]).take(3)\n",
    "# [('30', 39), ('25', 38), ('22', 37)]\n",
    "# people aged 30 are the most common"
   ]
  },
  {
   "cell_type": "code",
   "execution_count": 38,
   "metadata": {},
   "outputs": [
    {
     "data": {
      "text/html": [
       "<style scoped>\n",
       "  .ansiout {\n",
       "    display: block;\n",
       "    unicode-bidi: embed;\n",
       "    white-space: pre-wrap;\n",
       "    word-wrap: break-word;\n",
       "    word-break: break-all;\n",
       "    font-family: \"Source Code Pro\", \"Menlo\", monospace;;\n",
       "    font-size: 13px;\n",
       "    color: #555;\n",
       "    margin-left: 4px;\n",
       "    line-height: 19px;\n",
       "  }\n",
       "</style>\n",
       "<div class=\"ansiout\">Out[142]: [(&#39;66&#39;, 1)]</div>"
      ]
     },
     "metadata": {},
     "output_type": "display_data"
    }
   ],
   "source": [
    "# least common age group\n",
    "userData.map(lambda x: (x[1],1))\\\n",
    ".reduceByKey(lambda x,y: x+y)\\\n",
    ".sortBy(lambda x: x[1]).take(1)\n",
    "# [('66', 1)]\n",
    "# people aged 66 are least common"
   ]
  },
  {
   "cell_type": "code",
   "execution_count": 39,
   "metadata": {},
   "outputs": [
    {
     "data": {
      "text/html": [
       "<style scoped>\n",
       "  .ansiout {\n",
       "    display: block;\n",
       "    unicode-bidi: embed;\n",
       "    white-space: pre-wrap;\n",
       "    word-wrap: break-word;\n",
       "    word-break: break-all;\n",
       "    font-family: \"Source Code Pro\", \"Menlo\", monospace;;\n",
       "    font-size: 13px;\n",
       "    color: #555;\n",
       "    margin-left: 4px;\n",
       "    line-height: 19px;\n",
       "  }\n",
       "</style>\n",
       "<div class=\"ansiout\">Out[110]: [(&#39;66&#39;, 1),\n",
       " (&#39;10&#39;, 1),\n",
       " (&#39;73&#39;, 1),\n",
       " (&#39;7&#39;, 1),\n",
       " (&#39;11&#39;, 1),\n",
       " (&#39;68&#39;, 2),\n",
       " (&#39;64&#39;, 2),\n",
       " (&#39;69&#39;, 2),\n",
       " (&#39;62&#39;, 2),\n",
       " (&#39;14&#39;, 3)]</div>"
      ]
     },
     "metadata": {},
     "output_type": "display_data"
    }
   ],
   "source": [
    "# 10 least common age group users \n",
    "userData.map(lambda x: (x[1],1))\\\n",
    ".reduceByKey(lambda x,y: x+y)\\\n",
    ".sortBy(lambda x: x[1]).take(10)\n",
    "# [('66', 1), ('10', 1) ..."
   ]
  },
  {
   "cell_type": "code",
   "execution_count": 40,
   "metadata": {},
   "outputs": [
    {
     "data": {
      "text/html": [
       "<style scoped>\n",
       "  .ansiout {\n",
       "    display: block;\n",
       "    unicode-bidi: embed;\n",
       "    white-space: pre-wrap;\n",
       "    word-wrap: break-word;\n",
       "    word-break: break-all;\n",
       "    font-family: \"Source Code Pro\", \"Menlo\", monospace;;\n",
       "    font-size: 13px;\n",
       "    color: #555;\n",
       "    margin-left: 4px;\n",
       "    line-height: 19px;\n",
       "  }\n",
       "</style>\n",
       "<div class=\"ansiout\">Out[111]: [(&#39;30&#39;, 39),\n",
       " (&#39;25&#39;, 38),\n",
       " (&#39;22&#39;, 37),\n",
       " (&#39;28&#39;, 36),\n",
       " (&#39;27&#39;, 35),\n",
       " (&#39;26&#39;, 34),\n",
       " (&#39;24&#39;, 33),\n",
       " (&#39;29&#39;, 32),\n",
       " (&#39;20&#39;, 32),\n",
       " (&#39;23&#39;, 28)]</div>"
      ]
     },
     "metadata": {},
     "output_type": "display_data"
    }
   ],
   "source": [
    "# most common age group users \n",
    "userData.map(lambda x: (x[1],1))\\\n",
    ".reduceByKey(lambda x,y: x+y)\\\n",
    ".sortBy(lambda x: -x[1]).take(10)\n",
    "# most common users are in their 20-ties"
   ]
  },
  {
   "cell_type": "code",
   "execution_count": 41,
   "metadata": {},
   "outputs": [
    {
     "data": {
      "text/html": [
       "<style scoped>\n",
       "  .ansiout {\n",
       "    display: block;\n",
       "    unicode-bidi: embed;\n",
       "    white-space: pre-wrap;\n",
       "    word-wrap: break-word;\n",
       "    word-break: break-all;\n",
       "    font-family: \"Source Code Pro\", \"Menlo\", monospace;;\n",
       "    font-size: 13px;\n",
       "    color: #555;\n",
       "    margin-left: 4px;\n",
       "    line-height: 19px;\n",
       "  }\n",
       "</style>\n",
       "<div class=\"ansiout\">Out[112]: 21</div>"
      ]
     },
     "metadata": {},
     "output_type": "display_data"
    }
   ],
   "source": [
    "# group the users based on their occupations\n",
    "# index 3\n",
    "# counting occupations\n",
    "userData.map(lambda x: x[3]).distinct().count()\n",
    "# 21"
   ]
  },
  {
   "cell_type": "code",
   "execution_count": 42,
   "metadata": {},
   "outputs": [
    {
     "data": {
      "text/html": [
       "<style scoped>\n",
       "  .ansiout {\n",
       "    display: block;\n",
       "    unicode-bidi: embed;\n",
       "    white-space: pre-wrap;\n",
       "    word-wrap: break-word;\n",
       "    word-break: break-all;\n",
       "    font-family: \"Source Code Pro\", \"Menlo\", monospace;;\n",
       "    font-size: 13px;\n",
       "    color: #555;\n",
       "    margin-left: 4px;\n",
       "    line-height: 19px;\n",
       "  }\n",
       "</style>\n",
       "<div class=\"ansiout\">Out[114]: [(&#39;other&#39;, 105), (&#39;executive&#39;, 32), (&#39;administrator&#39;, 79)]</div>"
      ]
     },
     "metadata": {},
     "output_type": "display_data"
    }
   ],
   "source": [
    "# numbers in each occupation (index 3)\n",
    "userData.map(lambda x: (x[3], 1))\\\n",
    ".reduceByKey(lambda x,y: x+y).take(3)\n",
    "#.collect()"
   ]
  },
  {
   "cell_type": "code",
   "execution_count": 43,
   "metadata": {},
   "outputs": [
    {
     "data": {
      "text/html": [
       "<style scoped>\n",
       "  .ansiout {\n",
       "    display: block;\n",
       "    unicode-bidi: embed;\n",
       "    white-space: pre-wrap;\n",
       "    word-wrap: break-word;\n",
       "    word-break: break-all;\n",
       "    font-family: \"Source Code Pro\", \"Menlo\", monospace;;\n",
       "    font-size: 13px;\n",
       "    color: #555;\n",
       "    margin-left: 4px;\n",
       "    line-height: 19px;\n",
       "  }\n",
       "</style>\n",
       "<div class=\"ansiout\">Out[116]: [(&#39;student&#39;, 196),\n",
       " (&#39;other&#39;, 105),\n",
       " (&#39;educator&#39;, 95),\n",
       " (&#39;administrator&#39;, 79),\n",
       " (&#39;engineer&#39;, 67),\n",
       " (&#39;programmer&#39;, 66),\n",
       " (&#39;librarian&#39;, 51),\n",
       " (&#39;writer&#39;, 45),\n",
       " (&#39;executive&#39;, 32),\n",
       " (&#39;scientist&#39;, 31)]</div>"
      ]
     },
     "metadata": {},
     "output_type": "display_data"
    }
   ],
   "source": [
    "# most common occupation:\n",
    "userData.map(lambda x: (x[3], 1))\\\n",
    ".reduceByKey(lambda x,y: x+y)\\\n",
    ".sortBy(lambda x: -x[1]).take(10)\n",
    "# -x[1] - descending order \n",
    "# 'student' is most common - 196 in number"
   ]
  },
  {
   "cell_type": "code",
   "execution_count": 44,
   "metadata": {},
   "outputs": [
    {
     "data": {
      "text/html": [
       "<style scoped>\n",
       "  .ansiout {\n",
       "    display: block;\n",
       "    unicode-bidi: embed;\n",
       "    white-space: pre-wrap;\n",
       "    word-wrap: break-word;\n",
       "    word-break: break-all;\n",
       "    font-family: \"Source Code Pro\", \"Menlo\", monospace;;\n",
       "    font-size: 13px;\n",
       "    color: #555;\n",
       "    margin-left: 4px;\n",
       "    line-height: 19px;\n",
       "  }\n",
       "</style>\n",
       "<div class=\"ansiout\">Out[117]: [(&#39;homemaker&#39;, 7),\n",
       " (&#39;doctor&#39;, 7),\n",
       " (&#39;none&#39;, 9),\n",
       " (&#39;lawyer&#39;, 12),\n",
       " (&#39;salesman&#39;, 12)]</div>"
      ]
     },
     "metadata": {},
     "output_type": "display_data"
    }
   ],
   "source": [
    "# least common occupations:\n",
    "userData.map(lambda x: (x[3], 1))\\\n",
    ".reduceByKey(lambda x,y: x+y)\\\n",
    ".sortBy(lambda x: x[1]).take(5)\n",
    "# [('homemaker', 7), ('doctor', 7) ..."
   ]
  },
  {
   "cell_type": "code",
   "execution_count": 45,
   "metadata": {},
   "outputs": [
    {
     "data": {
      "text/html": [
       "<style scoped>\n",
       "  .ansiout {\n",
       "    display: block;\n",
       "    unicode-bidi: embed;\n",
       "    white-space: pre-wrap;\n",
       "    word-wrap: break-word;\n",
       "    word-break: break-all;\n",
       "    font-family: \"Source Code Pro\", \"Menlo\", monospace;;\n",
       "    font-size: 13px;\n",
       "    color: #555;\n",
       "    margin-left: 4px;\n",
       "    line-height: 19px;\n",
       "  }\n",
       "</style>\n",
       "<div class=\"ansiout\">Out[119]: [(&#39;student&#39;, 196),\n",
       " (&#39;educator&#39;, 95),\n",
       " (&#39;administrator&#39;, 79),\n",
       " (&#39;engineer&#39;, 67),\n",
       " (&#39;programmer&#39;, 66),\n",
       " (&#39;librarian&#39;, 51),\n",
       " (&#39;writer&#39;, 45),\n",
       " (&#39;executive&#39;, 32)]</div>"
      ]
     },
     "metadata": {},
     "output_type": "display_data"
    }
   ],
   "source": [
    "# exclude 'other' in occupation column\n",
    "userData\\\n",
    ".map(lambda x: (x[3], 1))\\\n",
    ".filter(lambda x: x[0] != 'other')\\ # filter po kluczu\n",
    ".reduceByKey(lambda x,y: x+y)\\\n",
    ".sortBy(lambda x: -x[1]).take(8)\n",
    "# [('student', 196), ..."
   ]
  },
  {
   "cell_type": "code",
   "execution_count": 46,
   "metadata": {},
   "outputs": [
    {
     "data": {
      "text/html": [
       "<style scoped>\n",
       "  .ansiout {\n",
       "    display: block;\n",
       "    unicode-bidi: embed;\n",
       "    white-space: pre-wrap;\n",
       "    word-wrap: break-word;\n",
       "    word-break: break-all;\n",
       "    font-family: \"Source Code Pro\", \"Menlo\", monospace;;\n",
       "    font-size: 13px;\n",
       "    color: #555;\n",
       "    margin-left: 4px;\n",
       "    line-height: 19px;\n",
       "  }\n",
       "</style>\n",
       "<div class=\"ansiout\">Out[138]: 136</div>"
      ]
     },
     "metadata": {},
     "output_type": "display_data"
    }
   ],
   "source": [
    "# id | age | gender | occupation | zip\n",
    "# number of male students:\n",
    "userData\\\n",
    ".map(lambda x: (x[3], x[2]))\\\n",
    ".filter(lambda x: x[0] == 'student' and x[1] == 'M')\\\n",
    ".count()\n",
    "# 136"
   ]
  },
  {
   "cell_type": "code",
   "execution_count": 47,
   "metadata": {},
   "outputs": [
    {
     "data": {
      "text/html": [
       "<style scoped>\n",
       "  .ansiout {\n",
       "    display: block;\n",
       "    unicode-bidi: embed;\n",
       "    white-space: pre-wrap;\n",
       "    word-wrap: break-word;\n",
       "    word-break: break-all;\n",
       "    font-family: \"Source Code Pro\", \"Menlo\", monospace;;\n",
       "    font-size: 13px;\n",
       "    color: #555;\n",
       "    margin-left: 4px;\n",
       "    line-height: 19px;\n",
       "  }\n",
       "</style>\n",
       "<div class=\"ansiout\">Out[139]: 60</div>"
      ]
     },
     "metadata": {},
     "output_type": "display_data"
    }
   ],
   "source": [
    "# number of female students:\n",
    "userData\\\n",
    ".map(lambda x: (x[3], x[2]))\\\n",
    ".filter(lambda x: x[0] == 'student' and x[1] == 'F')\\\n",
    ".count()\n",
    "# 60"
   ]
  },
  {
   "cell_type": "code",
   "execution_count": 48,
   "metadata": {},
   "outputs": [
    {
     "data": {
      "text/html": [
       "<style scoped>\n",
       "  .ansiout {\n",
       "    display: block;\n",
       "    unicode-bidi: embed;\n",
       "    white-space: pre-wrap;\n",
       "    word-wrap: break-word;\n",
       "    word-break: break-all;\n",
       "    font-family: \"Source Code Pro\", \"Menlo\", monospace;;\n",
       "    font-size: 13px;\n",
       "    color: #555;\n",
       "    margin-left: 4px;\n",
       "    line-height: 19px;\n",
       "  }\n",
       "</style>\n",
       "<div class=\"ansiout\">Out[144]: [60, 6]</div>"
      ]
     },
     "metadata": {},
     "output_type": "display_data"
    }
   ],
   "source": [
    "# id | age | gender | occupation | zip\n",
    "# programmers' gender:\n",
    "[userData.map(lambda x: (x[3], x[2]))\\\n",
    ".filter(lambda x: x[0] == 'programmer' and x[1] == 'M')\\\n",
    ".count(),\n",
    " userData.map(lambda x: (x[3], x[2]))\\\n",
    ".filter(lambda x: x[0] == 'programmer' and x[1] == 'F')\\\n",
    ".count()]\n",
    "# [60, 6]"
   ]
  },
  {
   "cell_type": "code",
   "execution_count": 49,
   "metadata": {},
   "outputs": [
    {
     "data": {
      "text/html": [
       "<style scoped>\n",
       "  .ansiout {\n",
       "    display: block;\n",
       "    unicode-bidi: embed;\n",
       "    white-space: pre-wrap;\n",
       "    word-wrap: break-word;\n",
       "    word-break: break-all;\n",
       "    font-family: \"Source Code Pro\", \"Menlo\", monospace;;\n",
       "    font-size: 13px;\n",
       "    color: #555;\n",
       "    margin-left: 4px;\n",
       "    line-height: 19px;\n",
       "  }\n",
       "</style>\n",
       "<div class=\"ansiout\">Out[145]: [29, 3]</div>"
      ]
     },
     "metadata": {},
     "output_type": "display_data"
    }
   ],
   "source": [
    "# executives' gender:\n",
    "[userData.map(lambda x: (x[3], x[2]))\\\n",
    ".filter(lambda x: x[0] == 'executive' and x[1] == 'M')\\\n",
    ".count(),\n",
    " userData.map(lambda x: (x[3], x[2]))\\\n",
    ".filter(lambda x: x[0] == 'executive' and x[1] == 'F')\\\n",
    ".count()]\n",
    "# [29, 3]\n",
    "# id | age | gender | occupation | zip"
   ]
  },
  {
   "cell_type": "code",
   "execution_count": 50,
   "metadata": {},
   "outputs": [
    {
     "data": {
      "text/html": [
       "<style scoped>\n",
       "  .ansiout {\n",
       "    display: block;\n",
       "    unicode-bidi: embed;\n",
       "    white-space: pre-wrap;\n",
       "    word-wrap: break-word;\n",
       "    word-break: break-all;\n",
       "    font-family: \"Source Code Pro\", \"Menlo\", monospace;;\n",
       "    font-size: 13px;\n",
       "    color: #555;\n",
       "    margin-left: 4px;\n",
       "    line-height: 19px;\n",
       "  }\n",
       "</style>\n",
       "<div class=\"ansiout\">Out[148]: [(&#39;26&#39;, 4),\n",
       " (&#39;36&#39;, 3),\n",
       " (&#39;31&#39;, 3),\n",
       " (&#39;48&#39;, 2),\n",
       " (&#39;44&#39;, 2),\n",
       " (&#39;39&#39;, 2),\n",
       " (&#39;46&#39;, 2),\n",
       " (&#39;22&#39;, 1),\n",
       " (&#39;33&#39;, 1),\n",
       " (&#39;29&#39;, 1)]</div>"
      ]
     },
     "metadata": {},
     "output_type": "display_data"
    }
   ],
   "source": [
    "# executives' age:\n",
    "userData.filter(lambda x: x[3] == 'executive')\\\n",
    ".map(lambda x: (x[1],1))\\\n",
    ".reduceByKey(lambda x,y: x+y)\\\n",
    ".sortBy(lambda x: -x[1]).take(10)\n",
    "# [('26', 4), ('36', 3), ('31', 3) ..."
   ]
  },
  {
   "cell_type": "code",
   "execution_count": 51,
   "metadata": {},
   "outputs": [
    {
     "data": {
      "text/html": [
       "<style scoped>\n",
       "  .ansiout {\n",
       "    display: block;\n",
       "    unicode-bidi: embed;\n",
       "    white-space: pre-wrap;\n",
       "    word-wrap: break-word;\n",
       "    word-break: break-all;\n",
       "    font-family: \"Source Code Pro\", \"Menlo\", monospace;;\n",
       "    font-size: 13px;\n",
       "    color: #555;\n",
       "    margin-left: 4px;\n",
       "    line-height: 19px;\n",
       "  }\n",
       "</style>\n",
       "<div class=\"ansiout\">Out[153]: [(&#39;20&#39;, 25),\n",
       " (&#39;19&#39;, 21),\n",
       " (&#39;22&#39;, 21),\n",
       " (&#39;17&#39;, 13),\n",
       " (&#39;21&#39;, 13),\n",
       " (&#39;18&#39;, 13),\n",
       " (&#39;23&#39;, 11),\n",
       " (&#39;25&#39;, 11),\n",
       " (&#39;24&#39;, 8),\n",
       " (&#39;28&#39;, 8)]</div>"
      ]
     },
     "metadata": {},
     "output_type": "display_data"
    }
   ],
   "source": [
    "# most common student age:\n",
    "userData.filter(lambda x: x[3] == 'student')\\\n",
    ".map(lambda x: (x[1],1))\\\n",
    ".reduceByKey(lambda x,y: x+y)\\\n",
    ".sortBy(lambda x: -x[1]).take(10)\n",
    "# [('20', 25), ('19', 21) ..."
   ]
  },
  {
   "cell_type": "code",
   "execution_count": 52,
   "metadata": {},
   "outputs": [
    {
     "data": {
      "text/html": [
       "<style scoped>\n",
       "  .ansiout {\n",
       "    display: block;\n",
       "    unicode-bidi: embed;\n",
       "    white-space: pre-wrap;\n",
       "    word-wrap: break-word;\n",
       "    word-break: break-all;\n",
       "    font-family: \"Source Code Pro\", \"Menlo\", monospace;;\n",
       "    font-size: 13px;\n",
       "    color: #555;\n",
       "    margin-left: 4px;\n",
       "    line-height: 19px;\n",
       "  }\n",
       "</style>\n",
       "<div class=\"ansiout\">Out[150]: 28</div>"
      ]
     },
     "metadata": {},
     "output_type": "display_data"
    }
   ],
   "source": [
    "# number of student age groups\n",
    "userData.filter(lambda x: x[3] == 'student')\\\n",
    ".map(lambda x: (x[1],1))\\\n",
    ".reduceByKey(lambda x,y: x+y)\\\n",
    ".sortBy(lambda x: -x[1]).count()"
   ]
  },
  {
   "cell_type": "code",
   "execution_count": 53,
   "metadata": {},
   "outputs": [
    {
     "data": {
      "text/html": [
       "<style scoped>\n",
       "  .ansiout {\n",
       "    display: block;\n",
       "    unicode-bidi: embed;\n",
       "    white-space: pre-wrap;\n",
       "    word-wrap: break-word;\n",
       "    word-break: break-all;\n",
       "    font-family: \"Source Code Pro\", \"Menlo\", monospace;;\n",
       "    font-size: 13px;\n",
       "    color: #555;\n",
       "    margin-left: 4px;\n",
       "    line-height: 19px;\n",
       "  }\n",
       "</style>\n",
       "<div class=\"ansiout\">Out[154]: [(&#39;39&#39;, 4),\n",
       " (&#39;33&#39;, 3),\n",
       " (&#39;45&#39;, 2),\n",
       " (&#39;40&#39;, 2),\n",
       " (&#39;38&#39;, 2),\n",
       " (&#39;28&#39;, 2),\n",
       " (&#39;42&#39;, 2),\n",
       " (&#39;31&#39;, 2),\n",
       " (&#39;26&#39;, 1),\n",
       " (&#39;29&#39;, 1)]</div>"
      ]
     },
     "metadata": {},
     "output_type": "display_data"
    }
   ],
   "source": [
    "# scientists' age:\n",
    "userData.filter(lambda x: x[3] == 'scientist')\\\n",
    ".map(lambda x: (x[1],1))\\\n",
    ".reduceByKey(lambda x,y: x+y)\\\n",
    ".sortBy(lambda x: -x[1]).take(10)\n",
    "# [('39', 4), ('33', 3), ('45', 2), ('40', 2) ..."
   ]
  },
  {
   "cell_type": "code",
   "execution_count": 54,
   "metadata": {},
   "outputs": [],
   "source": [
    "# "
   ]
  }
 ],
 "metadata": {
  "kernelspec": {
   "display_name": "Python 3",
   "language": "python",
   "name": "python3"
  },
  "language_info": {
   "codemirror_mode": {
    "name": "ipython",
    "version": 3
   },
   "file_extension": ".py",
   "mimetype": "text/x-python",
   "name": "python",
   "nbconvert_exporter": "python",
   "pygments_lexer": "ipython3",
   "version": "3.8.2"
  },
  "name": "movielens_28May",
  "notebookId": 3695032024190328
 },
 "nbformat": 4,
 "nbformat_minor": 1
}
